{
 "cells": [
  {
   "cell_type": "code",
   "execution_count": 1,
   "id": "07758c64-4f58-4c34-b4a3-034428054ef8",
   "metadata": {},
   "outputs": [],
   "source": [
    "%load_ext autoreload\n",
    "%autoreload 2\n",
    "%load_ext lab_black\n",
    "import os\n",
    "import pandas as pd\n",
    "import numpy as np\n",
    "import matplotlib.pyplot as plt\n",
    "from tqdm import tqdm\n",
    "import gomics\n",
    "from glob import glob\n",
    "import itertools\n",
    "import submitit\n",
    "import subprocess"
   ]
  },
  {
   "cell_type": "code",
   "execution_count": 2,
   "id": "ebe7d688-d704-4f07-83a8-9b0a25edd3b3",
   "metadata": {},
   "outputs": [],
   "source": [
    "version = \"baseline\""
   ]
  },
  {
   "cell_type": "code",
   "execution_count": 3,
   "id": "63c0af32-8792-4c6b-aa5e-a59a5fd165fa",
   "metadata": {},
   "outputs": [],
   "source": [
    "LDSC_DATA_DIR = \"/u/project/pasaniuc/kangchen/DATA/ldsc/\"\n",
    "DATA_DIR = \"../format-dmr-loop/out/\"\n",
    "\n",
    "trait_list = [\n",
    "    \"PASS_ADHD_Demontis2018\",\n",
    "    \"PASS_Alzheimers_Jansen2019\",\n",
    "    \"PASS_BIP_Mullins2021\",\n",
    "    \"PASS_Insomnia_Jansen2019\",\n",
    "    \"PASS_Intelligence_SavageJansen2018\",\n",
    "    \"PASS_MDD_Howard2019\",\n",
    "    \"PASS_Schizophrenia_Pardinas2018\",\n",
    "    \"PASS_VerbalNumericReasoning_Davies2018\",\n",
    "    \"UKB_460K.body_BMIz\",\n",
    "    \"UKB_460K.cov_EDU_COLLEGE\",\n",
    "    \"UKB_460K.cov_EDU_YEARS\",\n",
    "    \"UKB_460K.cov_SMOKING_STATUS\",\n",
    "    \"UKB_460K.mental_NEUROTICISM\",\n",
    "    \"UKB_460K.body_HEIGHTz\",\n",
    "    \"PASS_SCZ_Trubetskoy2022\",\n",
    "    \"PASS_ASD_Grove2019\",\n",
    "]"
   ]
  },
  {
   "cell_type": "code",
   "execution_count": 4,
   "id": "8b32677e-2ba0-4718-bb88-c75bbe276ff2",
   "metadata": {},
   "outputs": [
    {
     "data": {
      "text/plain": [
       "group\n",
       "L2DMR                  62\n",
       "L2DMR-L2LOOP           59\n",
       "L2DMR-L2LOOPSUMMIT     59\n",
       "L2LOOP                 89\n",
       "L2LOOP-L2DMR           59\n",
       "L2LOOPSUMMIT           89\n",
       "L2LOOPSUMMIT-L2DMR     59\n",
       "L3DMR                 195\n",
       "L3DMR-L3LOOP          159\n",
       "L3DMR-L3LOOPSUMMIT    159\n",
       "L3LOOP                159\n",
       "L3LOOP-L3DMR          159\n",
       "L3LOOPSUMMIT          159\n",
       "L3LOOPSUMMIT-L3DMR    159\n",
       "dtype: int64"
      ]
     },
     "metadata": {},
     "output_type": "display_data"
    }
   ],
   "source": [
    "df_params = {\"group\": [], \"bed\": []}\n",
    "\n",
    "for group_folder in glob(DATA_DIR + \"*\"):\n",
    "    group = group_folder.split(\"/\")[-1]\n",
    "    if group.startswith(\"3C\"):\n",
    "        continue\n",
    "    ct_list = [p.split(\"/\")[-1] for p in glob(os.path.join(\"out/ldscore\", group, \"*\"))]\n",
    "    df_params[\"group\"].extend([group] * len(ct_list))\n",
    "    df_params[\"bed\"].extend(ct_list)\n",
    "df_params = pd.DataFrame(df_params)\n",
    "display(df_params.groupby(\"group\").size())\n",
    "df_params[\"ldscore_prefix\"] = df_params.apply(\n",
    "    lambda x: f\"out/ldscore/{x.group}/{x.bed}/\", axis=1\n",
    ")\n",
    "df_params[\"out_prefix\"] = df_params.apply(\n",
    "    lambda x: f\"out/hsq_{version}/{x.group}/{x.bed}/\", axis=1\n",
    ")"
   ]
  },
  {
   "cell_type": "code",
   "execution_count": 5,
   "id": "b80343ba-0850-440e-9110-479e09e11c4b",
   "metadata": {},
   "outputs": [],
   "source": [
    "df_todo_params = df_params[\n",
    "    ~df_params.apply(\n",
    "        lambda x: os.path.exists(x.out_prefix + trait_list[-1] + \".results\"), axis=1\n",
    "    )\n",
    "].reset_index(drop=True)"
   ]
  },
  {
   "cell_type": "code",
   "execution_count": 6,
   "id": "790cba81-a92b-4dbe-8fa2-b4e518d50e3e",
   "metadata": {},
   "outputs": [],
   "source": [
    "if version == \"baselineLD\":\n",
    "    ref_ld_prefix = \"baselineLD_v2.2/baselineLD.\"\n",
    "elif version == \"baseline\":\n",
    "    ref_ld_prefix = \"baseline_v1.2/baseline.\"\n",
    "else:\n",
    "    raise NotImplementedError"
   ]
  },
  {
   "cell_type": "code",
   "execution_count": 7,
   "id": "a71568c7-ef0d-471a-b693-ed56dc1c8f5b",
   "metadata": {},
   "outputs": [],
   "source": [
    "def calc_hsq(ldscore_prefix, out_prefix):\n",
    "    LDSC_DIR = \"/u/project/pasaniuc/kangchen/software/ldsc\"\n",
    "    PYTHON_PATH = (\n",
    "        \"/u/project/pasaniuc/kangchen/software/miniconda3/envs/ldsc/bin/python\"\n",
    "    )\n",
    "    os.makedirs(os.path.dirname(out_prefix), exist_ok=True)\n",
    "    for trait in trait_list:\n",
    "        trait_out_prefix = out_prefix + trait\n",
    "        if os.path.exists(trait_out_prefix + \".results\"):\n",
    "            continue\n",
    "        cmds = [\n",
    "            f\"{PYTHON_PATH} {LDSC_DIR}/ldsc.py\",\n",
    "            f\"--h2 {LDSC_DATA_DIR}/sumstats/{trait}.sumstats\",\n",
    "            f\"--ref-ld-chr {LDSC_DATA_DIR}/{ref_ld_prefix},{ldscore_prefix}\",\n",
    "            f\"--frqfile-chr {LDSC_DATA_DIR}/1000G_Phase3_frq/1000G.EUR.QC.\",\n",
    "            f\"--w-ld-chr {LDSC_DATA_DIR}/1000G_Phase3_weights_hm3_no_MHC/weights.hm3_noMHC.\",\n",
    "            \"--overlap-annot\",\n",
    "            \"--print-coefficients\",\n",
    "            f\"--out {trait_out_prefix}\",\n",
    "        ]\n",
    "        try:\n",
    "            subprocess.check_call(\" \".join(cmds), shell=True)\n",
    "        except subprocess.CalledProcessError as e:\n",
    "            print(e.output)"
   ]
  },
  {
   "cell_type": "code",
   "execution_count": 8,
   "id": "058f496a-ca9b-4cde-aa30-2dc38532648c",
   "metadata": {},
   "outputs": [],
   "source": [
    "executor = submitit.SgeExecutor(folder=\"./submitit-logs\")\n",
    "\n",
    "executor.update_parameters(\n",
    "    time_min=20,\n",
    "    memory_g=16,\n",
    "    setup=[\n",
    "        \"export PATH=~/project-pasaniuc/software/miniconda3/bin:$PATH\",\n",
    "        \"export PATH=~/project-pasaniuc/software/bin:$PATH\",\n",
    "        \"export PYTHONNOUSERSITE=True\",\n",
    "    ],\n",
    ")\n",
    "\n",
    "jobs = executor.map_array(\n",
    "    calc_hsq,\n",
    "    df_todo_params.ldscore_prefix,\n",
    "    df_todo_params.out_prefix,\n",
    ")"
   ]
  }
 ],
 "metadata": {
  "kernelspec": {
   "display_name": "Python 3 (ipykernel)",
   "language": "python",
   "name": "python3"
  },
  "language_info": {
   "codemirror_mode": {
    "name": "ipython",
    "version": 3
   },
   "file_extension": ".py",
   "mimetype": "text/x-python",
   "name": "python",
   "nbconvert_exporter": "python",
   "pygments_lexer": "ipython3",
   "version": "3.9.13"
  }
 },
 "nbformat": 4,
 "nbformat_minor": 5
}
