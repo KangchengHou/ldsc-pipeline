{
 "cells": [
  {
   "cell_type": "markdown",
   "id": "e9dac7f6-f17b-41bd-8433-d3e3812d49e0",
   "metadata": {},
   "source": [
    "# Format data for annotation files into a unified format"
   ]
  },
  {
   "cell_type": "code",
   "execution_count": 1,
   "id": "23be26ae-cbca-4404-a8a7-7219e52bde21",
   "metadata": {},
   "outputs": [],
   "source": [
    "%load_ext lab_black\n",
    "import numpy as np\n",
    "import os\n",
    "from glob import glob\n",
    "import subprocess\n",
    "import shutil\n",
    "from tqdm import tqdm\n",
    "import pandas as pd"
   ]
  },
  {
   "cell_type": "code",
   "execution_count": 1,
   "id": "161ce5ea-b1d0-49ce-af47-1ff1ebacae75",
   "metadata": {},
   "outputs": [],
   "source": [
    "DATA_DIR = \"/u/project/cluo/Shared_Datasets/brain_dev_snm3C/dmr/all_dmrs/hg19/L2\""
   ]
  },
  {
   "cell_type": "markdown",
   "id": "ed39d4e2-be02-4ea5-bff8-8b58f017fcb3",
   "metadata": {},
   "source": [
    "# Format DMR files"
   ]
  },
  {
   "cell_type": "code",
   "execution_count": 3,
   "id": "374dd81b-fe9b-4c3e-bf79-b0cb5fde7b58",
   "metadata": {},
   "outputs": [],
   "source": [
    "# for group in [\"L2DMR\", \"L3DMR\"]:\n",
    "#     # for group in dmr_groups:\n",
    "#     src_dir = {\"L2DMR\": L2_DMR_DIR, \"L3DMR\": L3_DMR_DIR}[group]\n",
    "#     os.makedirs(f\"out/{group}\", exist_ok=True)\n",
    "#     ct_list = [\n",
    "#         p.split(\"/\")[-1]\n",
    "#         for p in glob(os.path.join(src_dir, \"pfc_hpc_dms2_hypo_*.hg19.bed\"))\n",
    "#     ]\n",
    "\n",
    "#     ct_dict = {\n",
    "#         ct.split(\"pfc_hpc_dms2_hypo_\")[1].split(\".hg19.bed\")[0].replace(\"-\", \"_\"): ct\n",
    "#         for ct in ct_list\n",
    "#     }\n",
    "#     if group == \"L3DMR\":\n",
    "#         # append fetal samples\n",
    "#         ct_dict[\"cg2022_fetal_atac_neg\"] = \"fetal_19w_fetal_20w_atac_neg.dms2.bed.gz\"\n",
    "#         ct_dict[\"cg2022_fetal_atac_pos\"] = \"fetal_19w_fetal_20w_atac_pos.dms2.bed.gz\"\n",
    "#         ct_dict[\"cg2022_fetal_all\"] = \"fetal_19w_fetal_20w.dms2.bed.gz\"\n",
    "#         ct_dict[\"cg2022_fetal_ulmr\"] = \"hs_fc_UMB_412_UMRsLMRs.bed.gz\"\n",
    "#     if group == \"L2DMR\":\n",
    "#         # typo correction\n",
    "#         ct_dict[\"PFC_3T_Exc_UL\"] = \"pfc_hpc_dms2_hypo_PFC-3T-UL.hg19.bed\"\n",
    "\n",
    "#     for ct in tqdm(ct_dict):\n",
    "#         if ct_dict[ct].endswith(\".bed\"):\n",
    "#             suffix = \"bed\"\n",
    "#         elif ct_dict[ct].endswith(\".bed.gz\"):\n",
    "#             suffix = \"bed.gz\"\n",
    "#         else:\n",
    "#             raise NotImplementedError\n",
    "#         df_bed = pd.read_csv(\n",
    "#             os.path.join(src_dir, ct_dict[ct]), delim_whitespace=True, header=None\n",
    "#         )\n",
    "#         if len(df_bed.columns) > 4:\n",
    "#             print(f\"{os.path.join(src_dir, ct_dict[ct])} has more than 4 columns\")\n",
    "#             display(df_bed.head())\n",
    "#             df_bed = df_bed.iloc[:, 0:4]\n",
    "#             df_bed[3] = 1\n",
    "#         df_bed.to_csv(f\"out/{group}/{ct}.bed\", sep=\"\\t\", index=False, header=False)"
   ]
  }
 ],
 "metadata": {
  "kernelspec": {
   "display_name": "Python 3 (ipykernel)",
   "language": "python",
   "name": "python3"
  },
  "language_info": {
   "codemirror_mode": {
    "name": "ipython",
    "version": 3
   },
   "file_extension": ".py",
   "mimetype": "text/x-python",
   "name": "python",
   "nbconvert_exporter": "python",
   "pygments_lexer": "ipython3",
   "version": "3.9.13"
  }
 },
 "nbformat": 4,
 "nbformat_minor": 5
}
