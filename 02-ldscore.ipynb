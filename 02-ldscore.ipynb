{
 "cells": [
  {
   "cell_type": "code",
   "execution_count": 1,
   "id": "c17a5abc-4f32-4361-8628-46d834fccc24",
   "metadata": {},
   "outputs": [],
   "source": [
    "%load_ext autoreload\n",
    "%autoreload 2\n",
    "%load_ext lab_black\n",
    "import os\n",
    "import pandas as pd\n",
    "import numpy as np\n",
    "import matplotlib.pyplot as plt\n",
    "from tqdm import tqdm\n",
    "import gomics\n",
    "from glob import glob\n",
    "import itertools\n",
    "import submitit\n",
    "import subprocess\n",
    "from pybedtools import BedTool\n",
    "import os"
   ]
  },
  {
   "cell_type": "code",
   "execution_count": 2,
   "id": "9da55d80-f8a3-43f6-b16f-9f14af0da926",
   "metadata": {},
   "outputs": [],
   "source": [
    "LDSC_DATA_DIR = \"/u/project/pasaniuc/kangchen/DATA/ldsc/\"\n",
    "DATA_DIR = \"../format-dmr-loop/out/\""
   ]
  },
  {
   "cell_type": "code",
   "execution_count": 3,
   "id": "165c1817-d86d-4a61-8138-522bca12fbc8",
   "metadata": {},
   "outputs": [
    {
     "data": {
      "text/plain": [
       "group\n",
       "L2DMR                  62\n",
       "L2DMR-L2LOOP           59\n",
       "L2DMR-L2LOOPSUMMIT     59\n",
       "L2LOOP                 89\n",
       "L2LOOP-L2DMR           59\n",
       "L2LOOPSUMMIT           89\n",
       "L2LOOPSUMMIT-L2DMR     59\n",
       "L3DMR                 195\n",
       "L3DMR-L3LOOP          159\n",
       "L3DMR-L3LOOPSUMMIT    159\n",
       "L3LOOP                159\n",
       "L3LOOP-L3DMR          159\n",
       "L3LOOPSUMMIT          159\n",
       "L3LOOPSUMMIT-L3DMR    159\n",
       "dtype: int64"
      ]
     },
     "metadata": {},
     "output_type": "display_data"
    }
   ],
   "source": [
    "df_params = {\"group\": [], \"bed\": []}\n",
    "\n",
    "for group_folder in glob(DATA_DIR + \"*\"):\n",
    "    group = group_folder.split(\"/\")[-1]\n",
    "    if \"TSS\" in group:\n",
    "        continue\n",
    "    ct_list = [p.split(\"/\")[-1] for p in glob(os.path.join(DATA_DIR, group, \"*.bed*\"))]\n",
    "    df_params[\"group\"].extend([group] * len(ct_list))\n",
    "    df_params[\"bed\"].extend(ct_list)\n",
    "df_params = pd.DataFrame(df_params)\n",
    "\n",
    "df_params[\"out_dir\"] = df_params.apply(\n",
    "    lambda x: f\"out/ldscore/{x.group}/{x.bed.split('.')[0]}\", axis=1\n",
    ")\n",
    "\n",
    "# filter L2\n",
    "# df_params = df_params[df_params[\"group\"].str.contains(\"L2\")]\n",
    "display(df_params.groupby(\"group\").size())"
   ]
  },
  {
   "cell_type": "code",
   "execution_count": 4,
   "id": "98ef6b14-5398-4b47-b127-21a0e37a0ce2",
   "metadata": {},
   "outputs": [],
   "source": [
    "def make_annot(group, bed, out_dir):\n",
    "    bed_file = os.path.join(DATA_DIR, group, bed)\n",
    "    annot_bed = BedTool(bed_file)\n",
    "    os.makedirs(out_dir, exist_ok=True)\n",
    "    for chrom in tqdm(range(1, 23)):\n",
    "        bim_file = os.path.join(\n",
    "            LDSC_DATA_DIR, \"baseline_v1.2\", f\"baseline.{chrom}.annot.gz\"\n",
    "        )\n",
    "        df_bim = pd.read_csv(bim_file, delim_whitespace=True)[\n",
    "            [\"CHR\", \"BP\", \"SNP\", \"CM\"]\n",
    "        ]\n",
    "        df_snp_annot = gomics.make_ldsc_annot(annot_bed, df_bim)\n",
    "        # in case of duplicated DMR (due to liftOver)\n",
    "        # already handled in make_ldsc_annot\n",
    "        # df_snp_annot = df_snp_annot.drop_duplicates(subset=\"SNP\")\n",
    "        assert np.all(\n",
    "            df_bim[\"SNP\"].values == df_snp_annot[\"SNP\"].values\n",
    "        ), f\"{group}, {ct}, {out_dir}, {chrom} not consistent\"\n",
    "\n",
    "        # Optionally use 0/1 annotation\n",
    "        df_snp_annot.loc[df_snp_annot[\"ANNOT\"].notna(), \"ANNOT\"] = 1\n",
    "        df_snp_annot.fillna(0, inplace=True)\n",
    "        print(df_snp_annot[\"ANNOT\"].mean())\n",
    "        df_snp_annot.to_csv(f\"{out_dir}/{chrom}.annot.gz\", sep=\"\\t\", index=False)"
   ]
  },
  {
   "cell_type": "code",
   "execution_count": 5,
   "id": "0cb35d59-9bfa-4572-8f9b-e29daf4489c8",
   "metadata": {},
   "outputs": [],
   "source": [
    "df_todo_params = df_params[\n",
    "    ~df_params.apply(lambda x: os.path.exists(x.out_dir + \"/22.annot.gz\"), axis=1)\n",
    "].reset_index(drop=True)"
   ]
  },
  {
   "cell_type": "code",
   "execution_count": 6,
   "id": "bb00d64d-1001-4269-9706-caf334ac0ccb",
   "metadata": {},
   "outputs": [
    {
     "data": {
      "text/html": [
       "<div>\n",
       "<style scoped>\n",
       "    .dataframe tbody tr th:only-of-type {\n",
       "        vertical-align: middle;\n",
       "    }\n",
       "\n",
       "    .dataframe tbody tr th {\n",
       "        vertical-align: top;\n",
       "    }\n",
       "\n",
       "    .dataframe thead th {\n",
       "        text-align: right;\n",
       "    }\n",
       "</style>\n",
       "<table border=\"1\" class=\"dataframe\">\n",
       "  <thead>\n",
       "    <tr style=\"text-align: right;\">\n",
       "      <th></th>\n",
       "      <th>group</th>\n",
       "      <th>bed</th>\n",
       "      <th>out_dir</th>\n",
       "    </tr>\n",
       "  </thead>\n",
       "  <tbody>\n",
       "  </tbody>\n",
       "</table>\n",
       "</div>"
      ],
      "text/plain": [
       "Empty DataFrame\n",
       "Columns: [group, bed, out_dir]\n",
       "Index: []"
      ]
     },
     "execution_count": 6,
     "metadata": {},
     "output_type": "execute_result"
    }
   ],
   "source": [
    "df_todo_params"
   ]
  },
  {
   "cell_type": "code",
   "execution_count": 7,
   "id": "9151faa6-189d-47fd-bb94-7ecc3d82cadb",
   "metadata": {},
   "outputs": [
    {
     "name": "stderr",
     "output_type": "stream",
     "text": [
      "/u/project/pasaniuc/kangchen/software/submitit-sge/submitit/core/core.py:699: UserWarning: Received an empty job array\n",
      "  warnings.warn(\"Received an empty job array\")\n"
     ]
    }
   ],
   "source": [
    "executor = submitit.SgeExecutor(folder=\"./submitit-logs\")\n",
    "\n",
    "executor.update_parameters(\n",
    "    time_min=75,\n",
    "    memory_g=16,\n",
    "    setup=[\n",
    "        \"export PATH=~/project-pasaniuc/software/miniconda3/bin:$PATH\",\n",
    "        \"export PATH=~/project-pasaniuc/software/bin:$PATH\",\n",
    "        \"export PYTHONNOUSERSITE=True\",\n",
    "    ],\n",
    ")\n",
    "\n",
    "jobs = executor.map_array(\n",
    "    make_annot,\n",
    "    df_todo_params.group,\n",
    "    df_todo_params.bed,\n",
    "    df_todo_params.out_dir,\n",
    ")"
   ]
  },
  {
   "cell_type": "code",
   "execution_count": 8,
   "id": "c07a5df7-1022-4c40-ad79-8401e4cebbc9",
   "metadata": {},
   "outputs": [],
   "source": [
    "def make_ldscore(out_dir):\n",
    "    LDSC_DIR = \"/u/project/pasaniuc/kangchen/software/ldsc\"\n",
    "    PYTHON_PATH = (\n",
    "        \"/u/project/pasaniuc/kangchen/software/miniconda3/envs/ldsc/bin/python\"\n",
    "    )\n",
    "\n",
    "    for chrom in range(1, 23):\n",
    "        if os.path.exists(f\"{out_dir}/{chrom}.l2.M\"):\n",
    "            continue\n",
    "        cmds = [\n",
    "            f\"{PYTHON_PATH} {LDSC_DIR}/ldsc.py\",\n",
    "            \"--l2\",\n",
    "            f\"--bfile {LDSC_DATA_DIR}/1000G_EUR_Phase3_plink/1000G.EUR.QC.{chrom}\",\n",
    "            \"--ld-wind-cm 1\",\n",
    "            f\"--annot {out_dir}/{chrom}.annot.gz\",\n",
    "            f\"--out {out_dir}/{chrom}\",\n",
    "            f\"--print-snps {LDSC_DATA_DIR}/listHM3.txt\",\n",
    "        ]\n",
    "        subprocess.check_call(\" \".join(cmds), shell=True)"
   ]
  },
  {
   "cell_type": "code",
   "execution_count": 9,
   "id": "54862ffd-981c-426a-9d21-927a4e0c69cc",
   "metadata": {},
   "outputs": [],
   "source": [
    "df_todo_params = df_params[\n",
    "    ~df_params.apply(lambda x: os.path.exists(x.out_dir + \"/22.l2.M\"), axis=1)\n",
    "].reset_index(drop=True)"
   ]
  },
  {
   "cell_type": "code",
   "execution_count": 10,
   "id": "2ff75f6c-4515-42f0-b08a-20a934935c9a",
   "metadata": {},
   "outputs": [],
   "source": [
    "executor.update_parameters(\n",
    "    time_min=260,\n",
    "    memory_g=20,\n",
    "    #     queue=\"highp\",\n",
    "    setup=[\n",
    "        \"export PATH=~/project-pasaniuc/software/miniconda3/bin:$PATH\",\n",
    "        \"export PATH=~/project-pasaniuc/software/bin:$PATH\",\n",
    "        \"export PYTHONNOUSERSITE=True\",\n",
    "    ],\n",
    ")\n",
    "\n",
    "jobs2 = executor.map_array(\n",
    "    make_ldscore,\n",
    "    df_todo_params.out_dir,\n",
    ")"
   ]
  }
 ],
 "metadata": {
  "kernelspec": {
   "display_name": "Python 3",
   "language": "python",
   "name": "python3"
  },
  "language_info": {
   "codemirror_mode": {
    "name": "ipython",
    "version": 3
   },
   "file_extension": ".py",
   "mimetype": "text/x-python",
   "name": "python",
   "nbconvert_exporter": "python",
   "pygments_lexer": "ipython3",
   "version": "3.8.5"
  }
 },
 "nbformat": 4,
 "nbformat_minor": 5
}
